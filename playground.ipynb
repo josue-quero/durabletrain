{
 "cells": [
  {
   "cell_type": "code",
   "execution_count": 45,
   "metadata": {},
   "outputs": [],
   "source": [
    "import logging\n",
    "import json\n",
    "import os\n",
    "import tempfile\n",
    "import azure.functions as func\n",
    "import azure.durable_functions as df\n",
    "from moviepy.editor import *\n",
    "import itertools\n",
    "from azure.storage.blob import BlobServiceClient\n",
    "\n",
    "tempdir = tempfile.gettempdir()\n",
    "def dowload_file(name, tempdir = tempdir):\n",
    "\n",
    "    blob_service_client = BlobServiceClient.from_connection_string(\"DefaultEndpointsProtocol=https;AccountName=aistudio9f70;AccountKey=1EtoBzcsmU6AfEQTeAKwi5oiKWVkAUU4y96DkExaY6dXZOjsWuJYtFI/19zk0ipL/iF9aD65W6JM+ASt5GayTg==;EndpointSuffix=core.windows.net\")\n",
    "    data_container_client = blob_service_client.get_container_client(\"videos\")\n",
    "    tosave = os.path.join(tempdir, name)\n",
    "    with open(tosave, \"wb\") as data:\n",
    "        download_stream = data_container_client.download_blob(name)\n",
    "        data.write(download_stream.readall())\n",
    "    return name"
   ]
  },
  {
   "cell_type": "code",
   "execution_count": 46,
   "metadata": {},
   "outputs": [],
   "source": [
    "import math\n",
    "from pydub import AudioSegment\n",
    "import os\n",
    "class SplitWavAudioMubin():\n",
    "    def __init__(self, folder, filename):\n",
    "        self.folder = folder\n",
    "        self.filename = filename\n",
    "        self.filepath = folder + '\\\\' + filename\n",
    "        self.output_folder = folder + '\\\\' + 'splitted'\n",
    "        self.audio = AudioSegment.from_wav(self.filepath)\n",
    "\n",
    "    def get_duration(self):\n",
    "        return self.audio.duration_seconds\n",
    "\n",
    "    def single_split(self, from_min, to_min, split_filename):\n",
    "        t1 = from_min * 60 * 1000\n",
    "        t2 = to_min * 60 * 1000\n",
    "        split_audio = self.audio[t1:t2]\n",
    "        filepath = self.output_folder + '\\\\' + split_filename\n",
    "\n",
    "        split_audio.export(filepath, format=\"wav\")\n",
    "        return filepath\n",
    "\n",
    "    def multiple_split(self, min_per_split):\n",
    "        files = []\n",
    "        total_mins = math.ceil(self.get_duration() / 60)\n",
    "        for i in range(0, total_mins, min_per_split):\n",
    "            split_fn = str(i) + '_' + self.filename\n",
    "            files.append(self.single_split(i, i+min_per_split, split_fn))\n",
    "            print(str(i) + ' Done')\n",
    "            if i == total_mins - min_per_split:\n",
    "                print('All splited successfully')\n",
    "        return files"
   ]
  },
  {
   "cell_type": "code",
   "execution_count": 47,
   "metadata": {},
   "outputs": [
    {
     "name": "stdout",
     "output_type": "stream",
     "text": [
      "MoviePy - Writing audio in C:\\Users\\CESARD~1.SOT\\AppData\\Local\\Temp\\videoplayback.wav\n"
     ]
    },
    {
     "name": "stderr",
     "output_type": "stream",
     "text": [
      "                                                                      \r"
     ]
    },
    {
     "name": "stdout",
     "output_type": "stream",
     "text": [
      "MoviePy - Done.\n",
      "0 Done\n",
      "2 Done\n",
      "4 Done\n",
      "6 Done\n"
     ]
    }
   ],
   "source": [
    "fileUrl = \"videoplayback.mp4\"\n",
    "audiopath = dowload_file(fileUrl)\n",
    "video = VideoFileClip(os.path.join(tempdir, fileUrl)) # 2.\n",
    "audio = video.audio # 3.\n",
    "audiourl = fileUrl.replace(\".mp4\", \".wav\")\n",
    "audio.write_audiofile(os.path.join(tempdir, audiourl))\n",
    "split_wav = SplitWavAudioMubin(tempdir, audiourl)\n",
    "os.mkdir(tempdir + '\\\\' + 'splitted')\n",
    "results_paths = split_wav.multiple_split(min_per_split=2)"
   ]
  },
  {
   "cell_type": "code",
   "execution_count": 48,
   "metadata": {},
   "outputs": [
    {
     "data": {
      "text/plain": [
       "['C:\\\\Users\\\\CESARD~1.SOT\\\\AppData\\\\Local\\\\Temp\\\\splitted\\\\0_videoplayback.wav',\n",
       " 'C:\\\\Users\\\\CESARD~1.SOT\\\\AppData\\\\Local\\\\Temp\\\\splitted\\\\2_videoplayback.wav',\n",
       " 'C:\\\\Users\\\\CESARD~1.SOT\\\\AppData\\\\Local\\\\Temp\\\\splitted\\\\4_videoplayback.wav',\n",
       " 'C:\\\\Users\\\\CESARD~1.SOT\\\\AppData\\\\Local\\\\Temp\\\\splitted\\\\6_videoplayback.wav']"
      ]
     },
     "execution_count": 48,
     "metadata": {},
     "output_type": "execute_result"
    }
   ],
   "source": [
    "results_paths"
   ]
  },
  {
   "cell_type": "code",
   "execution_count": 44,
   "metadata": {},
   "outputs": [
    {
     "data": {
      "text/plain": [
       "'tmpdir\\\\videoplayback.mp4'"
      ]
     },
     "execution_count": 44,
     "metadata": {},
     "output_type": "execute_result"
    }
   ],
   "source": [
    "os.path.join(\"tmpdir\", fileUrl)"
   ]
  },
  {
   "cell_type": "code",
   "execution_count": 37,
   "metadata": {},
   "outputs": [],
   "source": [
    "split_wav = SplitWavAudioMubin(\"tmpdir\", audiourl)"
   ]
  },
  {
   "cell_type": "code",
   "execution_count": 27,
   "metadata": {},
   "outputs": [
    {
     "name": "stdout",
     "output_type": "stream",
     "text": [
      "MoviePy - Writing audio in tmpdir/videoplayback.mp3\n"
     ]
    },
    {
     "name": "stderr",
     "output_type": "stream",
     "text": [
      "                                                                     \r"
     ]
    },
    {
     "name": "stdout",
     "output_type": "stream",
     "text": [
      "MoviePy - Done.\n"
     ]
    }
   ],
   "source": [
    "from moviepy.editor import *\n",
    "video = VideoFileClip(\"tmpdir/videoplayback.mp4\") # 2.\n",
    "audio = video.audio # 3.\n",
    "audio.write_audiofile(\"tmpdir/videoplayback.mp3\") "
   ]
  },
  {
   "cell_type": "code",
   "execution_count": 24,
   "metadata": {},
   "outputs": [
    {
     "ename": "FileNotFoundError",
     "evalue": "[WinError 2] The system cannot find the file specified",
     "output_type": "error",
     "traceback": [
      "\u001b[1;31m---------------------------------------------------------------------------\u001b[0m",
      "\u001b[1;31mFileNotFoundError\u001b[0m                         Traceback (most recent call last)",
      "\u001b[1;32mc:\\Users\\cesard.soto\\Desktop\\VideoTrans\\playground.ipynb Cell 4'\u001b[0m in \u001b[0;36m<cell line: 1>\u001b[1;34m()\u001b[0m\n\u001b[1;32m----> <a href='vscode-notebook-cell:/c%3A/Users/cesard.soto/Desktop/VideoTrans/playground.ipynb#X11sZmlsZQ%3D%3D?line=0'>1</a>\u001b[0m audio \u001b[39m=\u001b[39m AudioSegment\u001b[39m.\u001b[39;49mfrom_mp3(\u001b[39mr\u001b[39;49m\u001b[39m\"\u001b[39;49m\u001b[39mC:\u001b[39;49m\u001b[39m\\\u001b[39;49m\u001b[39mUsers\u001b[39;49m\u001b[39m\\\u001b[39;49m\u001b[39mcesard.soto\u001b[39;49m\u001b[39m\\\u001b[39;49m\u001b[39mDesktop\u001b[39;49m\u001b[39m\\\u001b[39;49m\u001b[39mVideoTrans\u001b[39;49m\u001b[39m\\\u001b[39;49m\u001b[39mtmpdir\u001b[39;49m\u001b[39m\\\u001b[39;49m\u001b[39mvideoplayback.mp4\u001b[39;49m\u001b[39m\"\u001b[39;49m)\n",
      "File \u001b[1;32mc:\\Users\\cesard.soto\\Desktop\\VideoTrans\\.venv\\lib\\site-packages\\pydub\\audio_segment.py:796\u001b[0m, in \u001b[0;36mAudioSegment.from_mp3\u001b[1;34m(cls, file, parameters)\u001b[0m\n\u001b[0;32m    <a href='file:///c%3A/Users/cesard.soto/Desktop/VideoTrans/.venv/lib/site-packages/pydub/audio_segment.py?line=793'>794</a>\u001b[0m \u001b[39m@classmethod\u001b[39m\n\u001b[0;32m    <a href='file:///c%3A/Users/cesard.soto/Desktop/VideoTrans/.venv/lib/site-packages/pydub/audio_segment.py?line=794'>795</a>\u001b[0m \u001b[39mdef\u001b[39;00m \u001b[39mfrom_mp3\u001b[39m(\u001b[39mcls\u001b[39m, file, parameters\u001b[39m=\u001b[39m\u001b[39mNone\u001b[39;00m):\n\u001b[1;32m--> <a href='file:///c%3A/Users/cesard.soto/Desktop/VideoTrans/.venv/lib/site-packages/pydub/audio_segment.py?line=795'>796</a>\u001b[0m     \u001b[39mreturn\u001b[39;00m \u001b[39mcls\u001b[39;49m\u001b[39m.\u001b[39;49mfrom_file(file, \u001b[39m'\u001b[39;49m\u001b[39mmp3\u001b[39;49m\u001b[39m'\u001b[39;49m, parameters\u001b[39m=\u001b[39;49mparameters)\n",
      "File \u001b[1;32mc:\\Users\\cesard.soto\\Desktop\\VideoTrans\\.venv\\lib\\site-packages\\pydub\\audio_segment.py:728\u001b[0m, in \u001b[0;36mAudioSegment.from_file\u001b[1;34m(cls, file, format, codec, parameters, start_second, duration, **kwargs)\u001b[0m\n\u001b[0;32m    <a href='file:///c%3A/Users/cesard.soto/Desktop/VideoTrans/.venv/lib/site-packages/pydub/audio_segment.py?line=725'>726</a>\u001b[0m     info \u001b[39m=\u001b[39m \u001b[39mNone\u001b[39;00m\n\u001b[0;32m    <a href='file:///c%3A/Users/cesard.soto/Desktop/VideoTrans/.venv/lib/site-packages/pydub/audio_segment.py?line=726'>727</a>\u001b[0m \u001b[39melse\u001b[39;00m:\n\u001b[1;32m--> <a href='file:///c%3A/Users/cesard.soto/Desktop/VideoTrans/.venv/lib/site-packages/pydub/audio_segment.py?line=727'>728</a>\u001b[0m     info \u001b[39m=\u001b[39m mediainfo_json(orig_file, read_ahead_limit\u001b[39m=\u001b[39;49mread_ahead_limit)\n\u001b[0;32m    <a href='file:///c%3A/Users/cesard.soto/Desktop/VideoTrans/.venv/lib/site-packages/pydub/audio_segment.py?line=728'>729</a>\u001b[0m \u001b[39mif\u001b[39;00m info:\n\u001b[0;32m    <a href='file:///c%3A/Users/cesard.soto/Desktop/VideoTrans/.venv/lib/site-packages/pydub/audio_segment.py?line=729'>730</a>\u001b[0m     audio_streams \u001b[39m=\u001b[39m [x \u001b[39mfor\u001b[39;00m x \u001b[39min\u001b[39;00m info[\u001b[39m'\u001b[39m\u001b[39mstreams\u001b[39m\u001b[39m'\u001b[39m]\n\u001b[0;32m    <a href='file:///c%3A/Users/cesard.soto/Desktop/VideoTrans/.venv/lib/site-packages/pydub/audio_segment.py?line=730'>731</a>\u001b[0m                      \u001b[39mif\u001b[39;00m x[\u001b[39m'\u001b[39m\u001b[39mcodec_type\u001b[39m\u001b[39m'\u001b[39m] \u001b[39m==\u001b[39m \u001b[39m'\u001b[39m\u001b[39maudio\u001b[39m\u001b[39m'\u001b[39m]\n",
      "File \u001b[1;32mc:\\Users\\cesard.soto\\Desktop\\VideoTrans\\.venv\\lib\\site-packages\\pydub\\utils.py:274\u001b[0m, in \u001b[0;36mmediainfo_json\u001b[1;34m(filepath, read_ahead_limit)\u001b[0m\n\u001b[0;32m    <a href='file:///c%3A/Users/cesard.soto/Desktop/VideoTrans/.venv/lib/site-packages/pydub/utils.py?line=270'>271</a>\u001b[0m         file\u001b[39m.\u001b[39mclose()\n\u001b[0;32m    <a href='file:///c%3A/Users/cesard.soto/Desktop/VideoTrans/.venv/lib/site-packages/pydub/utils.py?line=272'>273</a>\u001b[0m command \u001b[39m=\u001b[39m [prober, \u001b[39m'\u001b[39m\u001b[39m-of\u001b[39m\u001b[39m'\u001b[39m, \u001b[39m'\u001b[39m\u001b[39mjson\u001b[39m\u001b[39m'\u001b[39m] \u001b[39m+\u001b[39m command_args\n\u001b[1;32m--> <a href='file:///c%3A/Users/cesard.soto/Desktop/VideoTrans/.venv/lib/site-packages/pydub/utils.py?line=273'>274</a>\u001b[0m res \u001b[39m=\u001b[39m Popen(command, stdin\u001b[39m=\u001b[39;49mstdin_parameter, stdout\u001b[39m=\u001b[39;49mPIPE, stderr\u001b[39m=\u001b[39;49mPIPE)\n\u001b[0;32m    <a href='file:///c%3A/Users/cesard.soto/Desktop/VideoTrans/.venv/lib/site-packages/pydub/utils.py?line=274'>275</a>\u001b[0m output, stderr \u001b[39m=\u001b[39m res\u001b[39m.\u001b[39mcommunicate(\u001b[39minput\u001b[39m\u001b[39m=\u001b[39mstdin_data)\n\u001b[0;32m    <a href='file:///c%3A/Users/cesard.soto/Desktop/VideoTrans/.venv/lib/site-packages/pydub/utils.py?line=275'>276</a>\u001b[0m output \u001b[39m=\u001b[39m output\u001b[39m.\u001b[39mdecode(\u001b[39m\"\u001b[39m\u001b[39mutf-8\u001b[39m\u001b[39m\"\u001b[39m, \u001b[39m'\u001b[39m\u001b[39mignore\u001b[39m\u001b[39m'\u001b[39m)\n",
      "File \u001b[1;32m~\\Anaconda3\\lib\\subprocess.py:858\u001b[0m, in \u001b[0;36mPopen.__init__\u001b[1;34m(self, args, bufsize, executable, stdin, stdout, stderr, preexec_fn, close_fds, shell, cwd, env, universal_newlines, startupinfo, creationflags, restore_signals, start_new_session, pass_fds, encoding, errors, text)\u001b[0m\n\u001b[0;32m    <a href='file:///c%3A/Users/cesard.soto/Anaconda3/lib/subprocess.py?line=853'>854</a>\u001b[0m         \u001b[39mif\u001b[39;00m \u001b[39mself\u001b[39m\u001b[39m.\u001b[39mtext_mode:\n\u001b[0;32m    <a href='file:///c%3A/Users/cesard.soto/Anaconda3/lib/subprocess.py?line=854'>855</a>\u001b[0m             \u001b[39mself\u001b[39m\u001b[39m.\u001b[39mstderr \u001b[39m=\u001b[39m io\u001b[39m.\u001b[39mTextIOWrapper(\u001b[39mself\u001b[39m\u001b[39m.\u001b[39mstderr,\n\u001b[0;32m    <a href='file:///c%3A/Users/cesard.soto/Anaconda3/lib/subprocess.py?line=855'>856</a>\u001b[0m                     encoding\u001b[39m=\u001b[39mencoding, errors\u001b[39m=\u001b[39merrors)\n\u001b[1;32m--> <a href='file:///c%3A/Users/cesard.soto/Anaconda3/lib/subprocess.py?line=857'>858</a>\u001b[0m     \u001b[39mself\u001b[39;49m\u001b[39m.\u001b[39;49m_execute_child(args, executable, preexec_fn, close_fds,\n\u001b[0;32m    <a href='file:///c%3A/Users/cesard.soto/Anaconda3/lib/subprocess.py?line=858'>859</a>\u001b[0m                         pass_fds, cwd, env,\n\u001b[0;32m    <a href='file:///c%3A/Users/cesard.soto/Anaconda3/lib/subprocess.py?line=859'>860</a>\u001b[0m                         startupinfo, creationflags, shell,\n\u001b[0;32m    <a href='file:///c%3A/Users/cesard.soto/Anaconda3/lib/subprocess.py?line=860'>861</a>\u001b[0m                         p2cread, p2cwrite,\n\u001b[0;32m    <a href='file:///c%3A/Users/cesard.soto/Anaconda3/lib/subprocess.py?line=861'>862</a>\u001b[0m                         c2pread, c2pwrite,\n\u001b[0;32m    <a href='file:///c%3A/Users/cesard.soto/Anaconda3/lib/subprocess.py?line=862'>863</a>\u001b[0m                         errread, errwrite,\n\u001b[0;32m    <a href='file:///c%3A/Users/cesard.soto/Anaconda3/lib/subprocess.py?line=863'>864</a>\u001b[0m                         restore_signals, start_new_session)\n\u001b[0;32m    <a href='file:///c%3A/Users/cesard.soto/Anaconda3/lib/subprocess.py?line=864'>865</a>\u001b[0m \u001b[39mexcept\u001b[39;00m:\n\u001b[0;32m    <a href='file:///c%3A/Users/cesard.soto/Anaconda3/lib/subprocess.py?line=865'>866</a>\u001b[0m     \u001b[39m# Cleanup if the child failed starting.\u001b[39;00m\n\u001b[0;32m    <a href='file:///c%3A/Users/cesard.soto/Anaconda3/lib/subprocess.py?line=866'>867</a>\u001b[0m     \u001b[39mfor\u001b[39;00m f \u001b[39min\u001b[39;00m \u001b[39mfilter\u001b[39m(\u001b[39mNone\u001b[39;00m, (\u001b[39mself\u001b[39m\u001b[39m.\u001b[39mstdin, \u001b[39mself\u001b[39m\u001b[39m.\u001b[39mstdout, \u001b[39mself\u001b[39m\u001b[39m.\u001b[39mstderr)):\n",
      "File \u001b[1;32m~\\Anaconda3\\lib\\subprocess.py:1311\u001b[0m, in \u001b[0;36mPopen._execute_child\u001b[1;34m(self, args, executable, preexec_fn, close_fds, pass_fds, cwd, env, startupinfo, creationflags, shell, p2cread, p2cwrite, c2pread, c2pwrite, errread, errwrite, unused_restore_signals, unused_start_new_session)\u001b[0m\n\u001b[0;32m   <a href='file:///c%3A/Users/cesard.soto/Anaconda3/lib/subprocess.py?line=1308'>1309</a>\u001b[0m \u001b[39m# Start the process\u001b[39;00m\n\u001b[0;32m   <a href='file:///c%3A/Users/cesard.soto/Anaconda3/lib/subprocess.py?line=1309'>1310</a>\u001b[0m \u001b[39mtry\u001b[39;00m:\n\u001b[1;32m-> <a href='file:///c%3A/Users/cesard.soto/Anaconda3/lib/subprocess.py?line=1310'>1311</a>\u001b[0m     hp, ht, pid, tid \u001b[39m=\u001b[39m _winapi\u001b[39m.\u001b[39;49mCreateProcess(executable, args,\n\u001b[0;32m   <a href='file:///c%3A/Users/cesard.soto/Anaconda3/lib/subprocess.py?line=1311'>1312</a>\u001b[0m                              \u001b[39m# no special security\u001b[39;49;00m\n\u001b[0;32m   <a href='file:///c%3A/Users/cesard.soto/Anaconda3/lib/subprocess.py?line=1312'>1313</a>\u001b[0m                              \u001b[39mNone\u001b[39;49;00m, \u001b[39mNone\u001b[39;49;00m,\n\u001b[0;32m   <a href='file:///c%3A/Users/cesard.soto/Anaconda3/lib/subprocess.py?line=1313'>1314</a>\u001b[0m                              \u001b[39mint\u001b[39;49m(\u001b[39mnot\u001b[39;49;00m close_fds),\n\u001b[0;32m   <a href='file:///c%3A/Users/cesard.soto/Anaconda3/lib/subprocess.py?line=1314'>1315</a>\u001b[0m                              creationflags,\n\u001b[0;32m   <a href='file:///c%3A/Users/cesard.soto/Anaconda3/lib/subprocess.py?line=1315'>1316</a>\u001b[0m                              env,\n\u001b[0;32m   <a href='file:///c%3A/Users/cesard.soto/Anaconda3/lib/subprocess.py?line=1316'>1317</a>\u001b[0m                              cwd,\n\u001b[0;32m   <a href='file:///c%3A/Users/cesard.soto/Anaconda3/lib/subprocess.py?line=1317'>1318</a>\u001b[0m                              startupinfo)\n\u001b[0;32m   <a href='file:///c%3A/Users/cesard.soto/Anaconda3/lib/subprocess.py?line=1318'>1319</a>\u001b[0m \u001b[39mfinally\u001b[39;00m:\n\u001b[0;32m   <a href='file:///c%3A/Users/cesard.soto/Anaconda3/lib/subprocess.py?line=1319'>1320</a>\u001b[0m     \u001b[39m# Child is launched. Close the parent's copy of those pipe\u001b[39;00m\n\u001b[0;32m   <a href='file:///c%3A/Users/cesard.soto/Anaconda3/lib/subprocess.py?line=1320'>1321</a>\u001b[0m     \u001b[39m# handles that only the child should have open.  You need\u001b[39;00m\n\u001b[1;32m   (...)\u001b[0m\n\u001b[0;32m   <a href='file:///c%3A/Users/cesard.soto/Anaconda3/lib/subprocess.py?line=1323'>1324</a>\u001b[0m     \u001b[39m# pipe will not close when the child process exits and the\u001b[39;00m\n\u001b[0;32m   <a href='file:///c%3A/Users/cesard.soto/Anaconda3/lib/subprocess.py?line=1324'>1325</a>\u001b[0m     \u001b[39m# ReadFile will hang.\u001b[39;00m\n\u001b[0;32m   <a href='file:///c%3A/Users/cesard.soto/Anaconda3/lib/subprocess.py?line=1325'>1326</a>\u001b[0m     \u001b[39mself\u001b[39m\u001b[39m.\u001b[39m_close_pipe_fds(p2cread, p2cwrite,\n\u001b[0;32m   <a href='file:///c%3A/Users/cesard.soto/Anaconda3/lib/subprocess.py?line=1326'>1327</a>\u001b[0m                          c2pread, c2pwrite,\n\u001b[0;32m   <a href='file:///c%3A/Users/cesard.soto/Anaconda3/lib/subprocess.py?line=1327'>1328</a>\u001b[0m                          errread, errwrite)\n",
      "\u001b[1;31mFileNotFoundError\u001b[0m: [WinError 2] The system cannot find the file specified"
     ]
    }
   ],
   "source": [
    "audio = AudioSegment.from_mp3(r\"C:\\Users\\cesard.soto\\Desktop\\VideoTrans\\tmpdir\\videoplayback.mp4\")\n"
   ]
  },
  {
   "cell_type": "code",
   "execution_count": null,
   "metadata": {},
   "outputs": [],
   "source": []
  }
 ],
 "metadata": {
  "interpreter": {
   "hash": "3f014dc83044cde19dfe12d041d625a345a15ba90ebf7c55268ba742f322645c"
  },
  "kernelspec": {
   "display_name": "Python 3.8.11 ('.venv': venv)",
   "language": "python",
   "name": "python3"
  },
  "language_info": {
   "codemirror_mode": {
    "name": "ipython",
    "version": 3
   },
   "file_extension": ".py",
   "mimetype": "text/x-python",
   "name": "python",
   "nbconvert_exporter": "python",
   "pygments_lexer": "ipython3",
   "version": "3.8.11"
  },
  "orig_nbformat": 4
 },
 "nbformat": 4,
 "nbformat_minor": 2
}
